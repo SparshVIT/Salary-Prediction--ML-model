{
 "cells": [
  {
   "cell_type": "code",
   "execution_count": 1,
   "id": "9965dc1c",
   "metadata": {},
   "outputs": [],
   "source": [
    "import pandas as pd\n",
    "import numpy as np"
   ]
  },
  {
   "cell_type": "code",
   "execution_count": 2,
   "id": "b9fd633e",
   "metadata": {},
   "outputs": [],
   "source": [
    "data = pd.read_csv(r\"C:\\Users\\hp\\Downloads\\employee_data.csv\")"
   ]
  },
  {
   "cell_type": "code",
   "execution_count": 3,
   "id": "9c6138eb",
   "metadata": {},
   "outputs": [
    {
     "data": {
      "text/html": [
       "<div>\n",
       "<style scoped>\n",
       "    .dataframe tbody tr th:only-of-type {\n",
       "        vertical-align: middle;\n",
       "    }\n",
       "\n",
       "    .dataframe tbody tr th {\n",
       "        vertical-align: top;\n",
       "    }\n",
       "\n",
       "    .dataframe thead th {\n",
       "        text-align: right;\n",
       "    }\n",
       "</style>\n",
       "<table border=\"1\" class=\"dataframe\">\n",
       "  <thead>\n",
       "    <tr style=\"text-align: right;\">\n",
       "      <th></th>\n",
       "      <th>Unnamed: 0</th>\n",
       "      <th>id</th>\n",
       "      <th>groups</th>\n",
       "      <th>age</th>\n",
       "      <th>healthy_eating</th>\n",
       "      <th>active_lifestyle</th>\n",
       "      <th>salary</th>\n",
       "    </tr>\n",
       "  </thead>\n",
       "  <tbody>\n",
       "    <tr>\n",
       "      <th>0</th>\n",
       "      <td>0</td>\n",
       "      <td>0</td>\n",
       "      <td>A</td>\n",
       "      <td>36</td>\n",
       "      <td>5</td>\n",
       "      <td>5</td>\n",
       "      <td>2297</td>\n",
       "    </tr>\n",
       "    <tr>\n",
       "      <th>1</th>\n",
       "      <td>1</td>\n",
       "      <td>1</td>\n",
       "      <td>A</td>\n",
       "      <td>55</td>\n",
       "      <td>3</td>\n",
       "      <td>5</td>\n",
       "      <td>1134</td>\n",
       "    </tr>\n",
       "    <tr>\n",
       "      <th>2</th>\n",
       "      <td>2</td>\n",
       "      <td>2</td>\n",
       "      <td>A</td>\n",
       "      <td>61</td>\n",
       "      <td>8</td>\n",
       "      <td>1</td>\n",
       "      <td>4969</td>\n",
       "    </tr>\n",
       "    <tr>\n",
       "      <th>3</th>\n",
       "      <td>3</td>\n",
       "      <td>3</td>\n",
       "      <td>O</td>\n",
       "      <td>29</td>\n",
       "      <td>3</td>\n",
       "      <td>6</td>\n",
       "      <td>902</td>\n",
       "    </tr>\n",
       "    <tr>\n",
       "      <th>4</th>\n",
       "      <td>4</td>\n",
       "      <td>4</td>\n",
       "      <td>O</td>\n",
       "      <td>34</td>\n",
       "      <td>6</td>\n",
       "      <td>2</td>\n",
       "      <td>3574</td>\n",
       "    </tr>\n",
       "  </tbody>\n",
       "</table>\n",
       "</div>"
      ],
      "text/plain": [
       "   Unnamed: 0  id groups  age  healthy_eating  active_lifestyle  salary\n",
       "0           0   0      A   36               5                 5    2297\n",
       "1           1   1      A   55               3                 5    1134\n",
       "2           2   2      A   61               8                 1    4969\n",
       "3           3   3      O   29               3                 6     902\n",
       "4           4   4      O   34               6                 2    3574"
      ]
     },
     "execution_count": 3,
     "metadata": {},
     "output_type": "execute_result"
    }
   ],
   "source": [
    "data.head(5)"
   ]
  },
  {
   "cell_type": "code",
   "execution_count": 4,
   "id": "62a39bfa",
   "metadata": {},
   "outputs": [],
   "source": [
    "data.drop('id',axis=1, inplace=True)"
   ]
  },
  {
   "cell_type": "code",
   "execution_count": 5,
   "id": "8cb0347f",
   "metadata": {},
   "outputs": [
    {
     "data": {
      "text/html": [
       "<div>\n",
       "<style scoped>\n",
       "    .dataframe tbody tr th:only-of-type {\n",
       "        vertical-align: middle;\n",
       "    }\n",
       "\n",
       "    .dataframe tbody tr th {\n",
       "        vertical-align: top;\n",
       "    }\n",
       "\n",
       "    .dataframe thead th {\n",
       "        text-align: right;\n",
       "    }\n",
       "</style>\n",
       "<table border=\"1\" class=\"dataframe\">\n",
       "  <thead>\n",
       "    <tr style=\"text-align: right;\">\n",
       "      <th></th>\n",
       "      <th>Unnamed: 0</th>\n",
       "      <th>groups</th>\n",
       "      <th>age</th>\n",
       "      <th>healthy_eating</th>\n",
       "      <th>active_lifestyle</th>\n",
       "      <th>salary</th>\n",
       "    </tr>\n",
       "  </thead>\n",
       "  <tbody>\n",
       "    <tr>\n",
       "      <th>0</th>\n",
       "      <td>0</td>\n",
       "      <td>A</td>\n",
       "      <td>36</td>\n",
       "      <td>5</td>\n",
       "      <td>5</td>\n",
       "      <td>2297</td>\n",
       "    </tr>\n",
       "    <tr>\n",
       "      <th>1</th>\n",
       "      <td>1</td>\n",
       "      <td>A</td>\n",
       "      <td>55</td>\n",
       "      <td>3</td>\n",
       "      <td>5</td>\n",
       "      <td>1134</td>\n",
       "    </tr>\n",
       "    <tr>\n",
       "      <th>2</th>\n",
       "      <td>2</td>\n",
       "      <td>A</td>\n",
       "      <td>61</td>\n",
       "      <td>8</td>\n",
       "      <td>1</td>\n",
       "      <td>4969</td>\n",
       "    </tr>\n",
       "    <tr>\n",
       "      <th>3</th>\n",
       "      <td>3</td>\n",
       "      <td>O</td>\n",
       "      <td>29</td>\n",
       "      <td>3</td>\n",
       "      <td>6</td>\n",
       "      <td>902</td>\n",
       "    </tr>\n",
       "    <tr>\n",
       "      <th>4</th>\n",
       "      <td>4</td>\n",
       "      <td>O</td>\n",
       "      <td>34</td>\n",
       "      <td>6</td>\n",
       "      <td>2</td>\n",
       "      <td>3574</td>\n",
       "    </tr>\n",
       "  </tbody>\n",
       "</table>\n",
       "</div>"
      ],
      "text/plain": [
       "   Unnamed: 0 groups  age  healthy_eating  active_lifestyle  salary\n",
       "0           0      A   36               5                 5    2297\n",
       "1           1      A   55               3                 5    1134\n",
       "2           2      A   61               8                 1    4969\n",
       "3           3      O   29               3                 6     902\n",
       "4           4      O   34               6                 2    3574"
      ]
     },
     "execution_count": 5,
     "metadata": {},
     "output_type": "execute_result"
    }
   ],
   "source": [
    "data.head(5)"
   ]
  },
  {
   "cell_type": "code",
   "execution_count": 6,
   "id": "92bcc4d8",
   "metadata": {},
   "outputs": [],
   "source": [
    "data.drop('Unnamed: 0',axis=1,inplace=True)"
   ]
  },
  {
   "cell_type": "code",
   "execution_count": 7,
   "id": "a01e9c65",
   "metadata": {},
   "outputs": [
    {
     "data": {
      "text/html": [
       "<div>\n",
       "<style scoped>\n",
       "    .dataframe tbody tr th:only-of-type {\n",
       "        vertical-align: middle;\n",
       "    }\n",
       "\n",
       "    .dataframe tbody tr th {\n",
       "        vertical-align: top;\n",
       "    }\n",
       "\n",
       "    .dataframe thead th {\n",
       "        text-align: right;\n",
       "    }\n",
       "</style>\n",
       "<table border=\"1\" class=\"dataframe\">\n",
       "  <thead>\n",
       "    <tr style=\"text-align: right;\">\n",
       "      <th></th>\n",
       "      <th>groups</th>\n",
       "      <th>age</th>\n",
       "      <th>healthy_eating</th>\n",
       "      <th>active_lifestyle</th>\n",
       "      <th>salary</th>\n",
       "    </tr>\n",
       "  </thead>\n",
       "  <tbody>\n",
       "    <tr>\n",
       "      <th>0</th>\n",
       "      <td>A</td>\n",
       "      <td>36</td>\n",
       "      <td>5</td>\n",
       "      <td>5</td>\n",
       "      <td>2297</td>\n",
       "    </tr>\n",
       "    <tr>\n",
       "      <th>1</th>\n",
       "      <td>A</td>\n",
       "      <td>55</td>\n",
       "      <td>3</td>\n",
       "      <td>5</td>\n",
       "      <td>1134</td>\n",
       "    </tr>\n",
       "    <tr>\n",
       "      <th>2</th>\n",
       "      <td>A</td>\n",
       "      <td>61</td>\n",
       "      <td>8</td>\n",
       "      <td>1</td>\n",
       "      <td>4969</td>\n",
       "    </tr>\n",
       "    <tr>\n",
       "      <th>3</th>\n",
       "      <td>O</td>\n",
       "      <td>29</td>\n",
       "      <td>3</td>\n",
       "      <td>6</td>\n",
       "      <td>902</td>\n",
       "    </tr>\n",
       "    <tr>\n",
       "      <th>4</th>\n",
       "      <td>O</td>\n",
       "      <td>34</td>\n",
       "      <td>6</td>\n",
       "      <td>2</td>\n",
       "      <td>3574</td>\n",
       "    </tr>\n",
       "  </tbody>\n",
       "</table>\n",
       "</div>"
      ],
      "text/plain": [
       "  groups  age  healthy_eating  active_lifestyle  salary\n",
       "0      A   36               5                 5    2297\n",
       "1      A   55               3                 5    1134\n",
       "2      A   61               8                 1    4969\n",
       "3      O   29               3                 6     902\n",
       "4      O   34               6                 2    3574"
      ]
     },
     "execution_count": 7,
     "metadata": {},
     "output_type": "execute_result"
    }
   ],
   "source": [
    "data.head(5)"
   ]
  },
  {
   "cell_type": "code",
   "execution_count": 8,
   "id": "6e65d121",
   "metadata": {},
   "outputs": [
    {
     "data": {
      "text/plain": [
       "array(['A', 'O', 'AB', 'B'], dtype=object)"
      ]
     },
     "execution_count": 8,
     "metadata": {},
     "output_type": "execute_result"
    }
   ],
   "source": [
    "data['groups'].unique()"
   ]
  },
  {
   "cell_type": "code",
   "execution_count": 9,
   "id": "465ef80f",
   "metadata": {},
   "outputs": [],
   "source": [
    "data['groups'].replace(['A','AB','O','B'],[1,2,3,4],inplace=True)"
   ]
  },
  {
   "cell_type": "code",
   "execution_count": 10,
   "id": "5135a7cc",
   "metadata": {},
   "outputs": [
    {
     "data": {
      "text/html": [
       "<div>\n",
       "<style scoped>\n",
       "    .dataframe tbody tr th:only-of-type {\n",
       "        vertical-align: middle;\n",
       "    }\n",
       "\n",
       "    .dataframe tbody tr th {\n",
       "        vertical-align: top;\n",
       "    }\n",
       "\n",
       "    .dataframe thead th {\n",
       "        text-align: right;\n",
       "    }\n",
       "</style>\n",
       "<table border=\"1\" class=\"dataframe\">\n",
       "  <thead>\n",
       "    <tr style=\"text-align: right;\">\n",
       "      <th></th>\n",
       "      <th>groups</th>\n",
       "      <th>age</th>\n",
       "      <th>healthy_eating</th>\n",
       "      <th>active_lifestyle</th>\n",
       "      <th>salary</th>\n",
       "    </tr>\n",
       "  </thead>\n",
       "  <tbody>\n",
       "    <tr>\n",
       "      <th>0</th>\n",
       "      <td>1</td>\n",
       "      <td>36</td>\n",
       "      <td>5</td>\n",
       "      <td>5</td>\n",
       "      <td>2297</td>\n",
       "    </tr>\n",
       "    <tr>\n",
       "      <th>1</th>\n",
       "      <td>1</td>\n",
       "      <td>55</td>\n",
       "      <td>3</td>\n",
       "      <td>5</td>\n",
       "      <td>1134</td>\n",
       "    </tr>\n",
       "    <tr>\n",
       "      <th>2</th>\n",
       "      <td>1</td>\n",
       "      <td>61</td>\n",
       "      <td>8</td>\n",
       "      <td>1</td>\n",
       "      <td>4969</td>\n",
       "    </tr>\n",
       "    <tr>\n",
       "      <th>3</th>\n",
       "      <td>3</td>\n",
       "      <td>29</td>\n",
       "      <td>3</td>\n",
       "      <td>6</td>\n",
       "      <td>902</td>\n",
       "    </tr>\n",
       "    <tr>\n",
       "      <th>4</th>\n",
       "      <td>3</td>\n",
       "      <td>34</td>\n",
       "      <td>6</td>\n",
       "      <td>2</td>\n",
       "      <td>3574</td>\n",
       "    </tr>\n",
       "  </tbody>\n",
       "</table>\n",
       "</div>"
      ],
      "text/plain": [
       "   groups  age  healthy_eating  active_lifestyle  salary\n",
       "0       1   36               5                 5    2297\n",
       "1       1   55               3                 5    1134\n",
       "2       1   61               8                 1    4969\n",
       "3       3   29               3                 6     902\n",
       "4       3   34               6                 2    3574"
      ]
     },
     "execution_count": 10,
     "metadata": {},
     "output_type": "execute_result"
    }
   ],
   "source": [
    "data.head(5)"
   ]
  },
  {
   "cell_type": "code",
   "execution_count": 11,
   "id": "882ecb05",
   "metadata": {},
   "outputs": [
    {
     "data": {
      "text/plain": [
       "groups              0\n",
       "age                 0\n",
       "healthy_eating      0\n",
       "active_lifestyle    0\n",
       "salary              0\n",
       "dtype: int64"
      ]
     },
     "execution_count": 11,
     "metadata": {},
     "output_type": "execute_result"
    }
   ],
   "source": [
    "data.isnull().sum()"
   ]
  },
  {
   "cell_type": "code",
   "execution_count": 12,
   "id": "9d2f8e34",
   "metadata": {},
   "outputs": [
    {
     "data": {
      "text/html": [
       "<div>\n",
       "<style scoped>\n",
       "    .dataframe tbody tr th:only-of-type {\n",
       "        vertical-align: middle;\n",
       "    }\n",
       "\n",
       "    .dataframe tbody tr th {\n",
       "        vertical-align: top;\n",
       "    }\n",
       "\n",
       "    .dataframe thead th {\n",
       "        text-align: right;\n",
       "    }\n",
       "</style>\n",
       "<table border=\"1\" class=\"dataframe\">\n",
       "  <thead>\n",
       "    <tr style=\"text-align: right;\">\n",
       "      <th></th>\n",
       "      <th>groups</th>\n",
       "      <th>age</th>\n",
       "      <th>healthy_eating</th>\n",
       "      <th>active_lifestyle</th>\n",
       "      <th>salary</th>\n",
       "    </tr>\n",
       "  </thead>\n",
       "  <tbody>\n",
       "    <tr>\n",
       "      <th>0</th>\n",
       "      <td>1</td>\n",
       "      <td>36</td>\n",
       "      <td>5</td>\n",
       "      <td>5</td>\n",
       "      <td>2297</td>\n",
       "    </tr>\n",
       "    <tr>\n",
       "      <th>1</th>\n",
       "      <td>1</td>\n",
       "      <td>55</td>\n",
       "      <td>3</td>\n",
       "      <td>5</td>\n",
       "      <td>1134</td>\n",
       "    </tr>\n",
       "    <tr>\n",
       "      <th>2</th>\n",
       "      <td>1</td>\n",
       "      <td>61</td>\n",
       "      <td>8</td>\n",
       "      <td>1</td>\n",
       "      <td>4969</td>\n",
       "    </tr>\n",
       "    <tr>\n",
       "      <th>3</th>\n",
       "      <td>3</td>\n",
       "      <td>29</td>\n",
       "      <td>3</td>\n",
       "      <td>6</td>\n",
       "      <td>902</td>\n",
       "    </tr>\n",
       "    <tr>\n",
       "      <th>4</th>\n",
       "      <td>3</td>\n",
       "      <td>34</td>\n",
       "      <td>6</td>\n",
       "      <td>2</td>\n",
       "      <td>3574</td>\n",
       "    </tr>\n",
       "  </tbody>\n",
       "</table>\n",
       "</div>"
      ],
      "text/plain": [
       "   groups  age  healthy_eating  active_lifestyle  salary\n",
       "0       1   36               5                 5    2297\n",
       "1       1   55               3                 5    1134\n",
       "2       1   61               8                 1    4969\n",
       "3       3   29               3                 6     902\n",
       "4       3   34               6                 2    3574"
      ]
     },
     "execution_count": 12,
     "metadata": {},
     "output_type": "execute_result"
    }
   ],
   "source": [
    "data.head()"
   ]
  },
  {
   "cell_type": "code",
   "execution_count": 13,
   "id": "e45141e1",
   "metadata": {},
   "outputs": [],
   "source": [
    "X = data.drop('salary', axis=1)"
   ]
  },
  {
   "cell_type": "code",
   "execution_count": 14,
   "id": "341d4cfd",
   "metadata": {},
   "outputs": [
    {
     "data": {
      "text/html": [
       "<div>\n",
       "<style scoped>\n",
       "    .dataframe tbody tr th:only-of-type {\n",
       "        vertical-align: middle;\n",
       "    }\n",
       "\n",
       "    .dataframe tbody tr th {\n",
       "        vertical-align: top;\n",
       "    }\n",
       "\n",
       "    .dataframe thead th {\n",
       "        text-align: right;\n",
       "    }\n",
       "</style>\n",
       "<table border=\"1\" class=\"dataframe\">\n",
       "  <thead>\n",
       "    <tr style=\"text-align: right;\">\n",
       "      <th></th>\n",
       "      <th>groups</th>\n",
       "      <th>age</th>\n",
       "      <th>healthy_eating</th>\n",
       "      <th>active_lifestyle</th>\n",
       "    </tr>\n",
       "  </thead>\n",
       "  <tbody>\n",
       "    <tr>\n",
       "      <th>0</th>\n",
       "      <td>1</td>\n",
       "      <td>36</td>\n",
       "      <td>5</td>\n",
       "      <td>5</td>\n",
       "    </tr>\n",
       "    <tr>\n",
       "      <th>1</th>\n",
       "      <td>1</td>\n",
       "      <td>55</td>\n",
       "      <td>3</td>\n",
       "      <td>5</td>\n",
       "    </tr>\n",
       "    <tr>\n",
       "      <th>2</th>\n",
       "      <td>1</td>\n",
       "      <td>61</td>\n",
       "      <td>8</td>\n",
       "      <td>1</td>\n",
       "    </tr>\n",
       "    <tr>\n",
       "      <th>3</th>\n",
       "      <td>3</td>\n",
       "      <td>29</td>\n",
       "      <td>3</td>\n",
       "      <td>6</td>\n",
       "    </tr>\n",
       "    <tr>\n",
       "      <th>4</th>\n",
       "      <td>3</td>\n",
       "      <td>34</td>\n",
       "      <td>6</td>\n",
       "      <td>2</td>\n",
       "    </tr>\n",
       "  </tbody>\n",
       "</table>\n",
       "</div>"
      ],
      "text/plain": [
       "   groups  age  healthy_eating  active_lifestyle\n",
       "0       1   36               5                 5\n",
       "1       1   55               3                 5\n",
       "2       1   61               8                 1\n",
       "3       3   29               3                 6\n",
       "4       3   34               6                 2"
      ]
     },
     "execution_count": 14,
     "metadata": {},
     "output_type": "execute_result"
    }
   ],
   "source": [
    "X.head()"
   ]
  },
  {
   "cell_type": "code",
   "execution_count": 15,
   "id": "98fe3ec4",
   "metadata": {},
   "outputs": [],
   "source": [
    "y = data['salary']"
   ]
  },
  {
   "cell_type": "code",
   "execution_count": 16,
   "id": "bf35410a",
   "metadata": {},
   "outputs": [
    {
     "data": {
      "text/plain": [
       "0    2297\n",
       "1    1134\n",
       "2    4969\n",
       "3     902\n",
       "4    3574\n",
       "Name: salary, dtype: int64"
      ]
     },
     "execution_count": 16,
     "metadata": {},
     "output_type": "execute_result"
    }
   ],
   "source": [
    "y.head()"
   ]
  },
  {
   "cell_type": "markdown",
   "id": "6e297652",
   "metadata": {},
   "source": [
    "**splitting the data into the training and testing data**"
   ]
  },
  {
   "cell_type": "code",
   "execution_count": 17,
   "id": "b86b5197",
   "metadata": {},
   "outputs": [],
   "source": [
    "from sklearn.model_selection import train_test_split # module for splitting the data"
   ]
  },
  {
   "cell_type": "code",
   "execution_count": 18,
   "id": "e4afb92b",
   "metadata": {},
   "outputs": [],
   "source": [
    "X_train,X_test,y_train,y_test = train_test_split(X,y,test_size = 0.20,random_state=42)"
   ]
  },
  {
   "cell_type": "code",
   "execution_count": 19,
   "id": "4e59004c",
   "metadata": {},
   "outputs": [
    {
     "data": {
      "text/html": [
       "<div>\n",
       "<style scoped>\n",
       "    .dataframe tbody tr th:only-of-type {\n",
       "        vertical-align: middle;\n",
       "    }\n",
       "\n",
       "    .dataframe tbody tr th {\n",
       "        vertical-align: top;\n",
       "    }\n",
       "\n",
       "    .dataframe thead th {\n",
       "        text-align: right;\n",
       "    }\n",
       "</style>\n",
       "<table border=\"1\" class=\"dataframe\">\n",
       "  <thead>\n",
       "    <tr style=\"text-align: right;\">\n",
       "      <th></th>\n",
       "      <th>groups</th>\n",
       "      <th>age</th>\n",
       "      <th>healthy_eating</th>\n",
       "      <th>active_lifestyle</th>\n",
       "    </tr>\n",
       "  </thead>\n",
       "  <tbody>\n",
       "    <tr>\n",
       "      <th>521</th>\n",
       "      <td>1</td>\n",
       "      <td>42</td>\n",
       "      <td>7</td>\n",
       "      <td>4</td>\n",
       "    </tr>\n",
       "    <tr>\n",
       "      <th>737</th>\n",
       "      <td>1</td>\n",
       "      <td>22</td>\n",
       "      <td>8</td>\n",
       "      <td>4</td>\n",
       "    </tr>\n",
       "    <tr>\n",
       "      <th>740</th>\n",
       "      <td>3</td>\n",
       "      <td>20</td>\n",
       "      <td>8</td>\n",
       "      <td>5</td>\n",
       "    </tr>\n",
       "    <tr>\n",
       "      <th>660</th>\n",
       "      <td>3</td>\n",
       "      <td>51</td>\n",
       "      <td>7</td>\n",
       "      <td>7</td>\n",
       "    </tr>\n",
       "    <tr>\n",
       "      <th>411</th>\n",
       "      <td>3</td>\n",
       "      <td>44</td>\n",
       "      <td>6</td>\n",
       "      <td>8</td>\n",
       "    </tr>\n",
       "    <tr>\n",
       "      <th>...</th>\n",
       "      <td>...</td>\n",
       "      <td>...</td>\n",
       "      <td>...</td>\n",
       "      <td>...</td>\n",
       "    </tr>\n",
       "    <tr>\n",
       "      <th>408</th>\n",
       "      <td>1</td>\n",
       "      <td>25</td>\n",
       "      <td>2</td>\n",
       "      <td>5</td>\n",
       "    </tr>\n",
       "    <tr>\n",
       "      <th>332</th>\n",
       "      <td>3</td>\n",
       "      <td>60</td>\n",
       "      <td>6</td>\n",
       "      <td>4</td>\n",
       "    </tr>\n",
       "    <tr>\n",
       "      <th>208</th>\n",
       "      <td>1</td>\n",
       "      <td>23</td>\n",
       "      <td>9</td>\n",
       "      <td>3</td>\n",
       "    </tr>\n",
       "    <tr>\n",
       "      <th>613</th>\n",
       "      <td>3</td>\n",
       "      <td>42</td>\n",
       "      <td>3</td>\n",
       "      <td>5</td>\n",
       "    </tr>\n",
       "    <tr>\n",
       "      <th>78</th>\n",
       "      <td>2</td>\n",
       "      <td>61</td>\n",
       "      <td>6</td>\n",
       "      <td>8</td>\n",
       "    </tr>\n",
       "  </tbody>\n",
       "</table>\n",
       "<p>200 rows × 4 columns</p>\n",
       "</div>"
      ],
      "text/plain": [
       "     groups  age  healthy_eating  active_lifestyle\n",
       "521       1   42               7                 4\n",
       "737       1   22               8                 4\n",
       "740       3   20               8                 5\n",
       "660       3   51               7                 7\n",
       "411       3   44               6                 8\n",
       "..      ...  ...             ...               ...\n",
       "408       1   25               2                 5\n",
       "332       3   60               6                 4\n",
       "208       1   23               9                 3\n",
       "613       3   42               3                 5\n",
       "78        2   61               6                 8\n",
       "\n",
       "[200 rows x 4 columns]"
      ]
     },
     "execution_count": 19,
     "metadata": {},
     "output_type": "execute_result"
    }
   ],
   "source": [
    "X_test"
   ]
  },
  {
   "cell_type": "code",
   "execution_count": 20,
   "id": "c2ea0ce1",
   "metadata": {},
   "outputs": [
    {
     "data": {
      "text/html": [
       "<div>\n",
       "<style scoped>\n",
       "    .dataframe tbody tr th:only-of-type {\n",
       "        vertical-align: middle;\n",
       "    }\n",
       "\n",
       "    .dataframe tbody tr th {\n",
       "        vertical-align: top;\n",
       "    }\n",
       "\n",
       "    .dataframe thead th {\n",
       "        text-align: right;\n",
       "    }\n",
       "</style>\n",
       "<table border=\"1\" class=\"dataframe\">\n",
       "  <thead>\n",
       "    <tr style=\"text-align: right;\">\n",
       "      <th></th>\n",
       "      <th>groups</th>\n",
       "      <th>age</th>\n",
       "      <th>healthy_eating</th>\n",
       "      <th>active_lifestyle</th>\n",
       "    </tr>\n",
       "  </thead>\n",
       "  <tbody>\n",
       "    <tr>\n",
       "      <th>29</th>\n",
       "      <td>3</td>\n",
       "      <td>20</td>\n",
       "      <td>8</td>\n",
       "      <td>6</td>\n",
       "    </tr>\n",
       "    <tr>\n",
       "      <th>535</th>\n",
       "      <td>4</td>\n",
       "      <td>24</td>\n",
       "      <td>7</td>\n",
       "      <td>4</td>\n",
       "    </tr>\n",
       "    <tr>\n",
       "      <th>695</th>\n",
       "      <td>4</td>\n",
       "      <td>45</td>\n",
       "      <td>6</td>\n",
       "      <td>6</td>\n",
       "    </tr>\n",
       "    <tr>\n",
       "      <th>557</th>\n",
       "      <td>3</td>\n",
       "      <td>30</td>\n",
       "      <td>5</td>\n",
       "      <td>5</td>\n",
       "    </tr>\n",
       "    <tr>\n",
       "      <th>836</th>\n",
       "      <td>3</td>\n",
       "      <td>41</td>\n",
       "      <td>4</td>\n",
       "      <td>1</td>\n",
       "    </tr>\n",
       "    <tr>\n",
       "      <th>...</th>\n",
       "      <td>...</td>\n",
       "      <td>...</td>\n",
       "      <td>...</td>\n",
       "      <td>...</td>\n",
       "    </tr>\n",
       "    <tr>\n",
       "      <th>106</th>\n",
       "      <td>1</td>\n",
       "      <td>56</td>\n",
       "      <td>6</td>\n",
       "      <td>5</td>\n",
       "    </tr>\n",
       "    <tr>\n",
       "      <th>270</th>\n",
       "      <td>2</td>\n",
       "      <td>51</td>\n",
       "      <td>10</td>\n",
       "      <td>4</td>\n",
       "    </tr>\n",
       "    <tr>\n",
       "      <th>860</th>\n",
       "      <td>3</td>\n",
       "      <td>30</td>\n",
       "      <td>5</td>\n",
       "      <td>2</td>\n",
       "    </tr>\n",
       "    <tr>\n",
       "      <th>435</th>\n",
       "      <td>3</td>\n",
       "      <td>41</td>\n",
       "      <td>7</td>\n",
       "      <td>5</td>\n",
       "    </tr>\n",
       "    <tr>\n",
       "      <th>102</th>\n",
       "      <td>2</td>\n",
       "      <td>37</td>\n",
       "      <td>4</td>\n",
       "      <td>6</td>\n",
       "    </tr>\n",
       "  </tbody>\n",
       "</table>\n",
       "<p>800 rows × 4 columns</p>\n",
       "</div>"
      ],
      "text/plain": [
       "     groups  age  healthy_eating  active_lifestyle\n",
       "29        3   20               8                 6\n",
       "535       4   24               7                 4\n",
       "695       4   45               6                 6\n",
       "557       3   30               5                 5\n",
       "836       3   41               4                 1\n",
       "..      ...  ...             ...               ...\n",
       "106       1   56               6                 5\n",
       "270       2   51              10                 4\n",
       "860       3   30               5                 2\n",
       "435       3   41               7                 5\n",
       "102       2   37               4                 6\n",
       "\n",
       "[800 rows x 4 columns]"
      ]
     },
     "execution_count": 20,
     "metadata": {},
     "output_type": "execute_result"
    }
   ],
   "source": [
    "X_train"
   ]
  },
  {
   "cell_type": "markdown",
   "id": "ff950bb1",
   "metadata": {},
   "source": [
    "**scaling of data so that it can derive insight from it**"
   ]
  },
  {
   "cell_type": "code",
   "execution_count": 21,
   "id": "ec0676a5",
   "metadata": {},
   "outputs": [],
   "source": [
    "from sklearn.preprocessing import StandardScaler"
   ]
  },
  {
   "cell_type": "code",
   "execution_count": 22,
   "id": "4df5c88e",
   "metadata": {},
   "outputs": [],
   "source": [
    "sc = StandardScaler()"
   ]
  },
  {
   "cell_type": "code",
   "execution_count": 23,
   "id": "14eb2c4c",
   "metadata": {},
   "outputs": [],
   "source": [
    "X_train = sc.fit_transform(X_train)\n",
    "X_test = sc.transform(X_test) # here the data is already fitted in scale from first step hence simply sc.transform"
   ]
  },
  {
   "cell_type": "code",
   "execution_count": 24,
   "id": "71c5ed9a",
   "metadata": {},
   "outputs": [
    {
     "data": {
      "text/plain": [
       "array([[ 0.68657966, -1.54071339,  1.5203237 ,  0.1569256 ],\n",
       "       [ 1.59897788, -1.2421436 ,  1.02510425, -0.8162564 ],\n",
       "       [ 1.59897788,  0.32534776,  0.52988481,  0.1569256 ],\n",
       "       ...,\n",
       "       [ 0.68657966, -0.79428893,  0.03466536, -1.7894384 ],\n",
       "       [ 0.68657966,  0.02677798,  1.02510425, -0.3296654 ],\n",
       "       [-0.22581856, -0.27179181, -0.46055408,  0.1569256 ]])"
      ]
     },
     "execution_count": 24,
     "metadata": {},
     "output_type": "execute_result"
    }
   ],
   "source": [
    "X_train"
   ]
  },
  {
   "cell_type": "code",
   "execution_count": 25,
   "id": "ed9e9004",
   "metadata": {},
   "outputs": [
    {
     "data": {
      "text/plain": [
       "array([[-1.13821678,  0.10142042,  1.02510425, -0.8162564 ],\n",
       "       [-1.13821678, -1.39142849,  1.5203237 , -0.8162564 ],\n",
       "       [ 0.68657966, -1.54071339,  1.5203237 , -0.3296654 ],\n",
       "       [ 0.68657966,  0.77320244,  1.02510425,  0.6435166 ],\n",
       "       [ 0.68657966,  0.25070531,  0.52988481,  1.1301076 ],\n",
       "       [-0.22581856,  0.77320244,  0.03466536,  1.1301076 ],\n",
       "       [-1.13821678,  1.370342  , -0.95577353, -1.3028474 ],\n",
       "       [-1.13821678, -0.27179181, -2.44143187, -0.8162564 ],\n",
       "       [ 0.68657966,  0.02677798, -0.95577353,  1.1301076 ],\n",
       "       [-1.13821678,  0.17606287,  0.03466536, -0.8162564 ],\n",
       "       [ 0.68657966, -1.01821626, -0.46055408,  1.1301076 ],\n",
       "       [ 0.68657966,  1.370342  , -0.46055408, -0.3296654 ],\n",
       "       [ 0.68657966,  0.02677798,  1.02510425,  0.1569256 ],\n",
       "       [ 0.68657966,  0.47463265, -0.95577353,  0.1569256 ],\n",
       "       [-1.13821678, -1.09285871, -1.45099298, -0.8162564 ],\n",
       "       [ 0.68657966,  0.10142042,  1.02510425,  1.6166986 ],\n",
       "       [-1.13821678,  0.99712977,  0.52988481, -0.8162564 ],\n",
       "       [ 0.68657966,  0.47463265,  1.5203237 ,  1.1301076 ],\n",
       "       [-1.13821678, -1.46607094, -1.45099298, -0.8162564 ],\n",
       "       [ 1.59897788, -1.39142849,  0.03466536, -1.3028474 ],\n",
       "       [ 0.68657966,  1.59426934,  0.52988481,  0.1569256 ],\n",
       "       [-0.22581856, -1.46607094, -0.95577353,  0.1569256 ],\n",
       "       [ 0.68657966, -0.71964648, -1.45099298, -0.8162564 ],\n",
       "       [ 1.59897788,  0.17606287, -0.95577353,  0.6435166 ],\n",
       "       [-1.13821678, -0.12250691, -0.46055408,  0.1569256 ],\n",
       "       [ 0.68657966, -1.31678605, -0.46055408, -0.3296654 ],\n",
       "       [ 0.68657966,  1.44498445,  0.03466536,  0.6435166 ],\n",
       "       [-1.13821678, -1.01821626,  0.52988481,  0.6435166 ],\n",
       "       [-0.22581856, -0.71964648, -1.45099298, -1.3028474 ],\n",
       "       [ 0.68657966, -1.09285871,  2.51076259, -0.8162564 ],\n",
       "       [-1.13821678,  1.44498445,  0.03466536,  1.1301076 ],\n",
       "       [ 0.68657966, -0.64500404,  0.52988481,  1.1301076 ],\n",
       "       [ 0.68657966, -0.79428893, -0.46055408,  0.1569256 ],\n",
       "       [ 0.68657966,  1.59426934,  0.52988481,  1.1301076 ],\n",
       "       [-1.13821678, -1.54071339,  1.5203237 ,  0.1569256 ],\n",
       "       [-0.22581856, -0.49571914, -0.95577353,  0.1569256 ],\n",
       "       [ 1.59897788, -0.57036159,  0.52988481,  0.1569256 ],\n",
       "       [-1.13821678, -0.27179181,  1.5203237 ,  0.6435166 ],\n",
       "       [ 0.68657966,  0.69855999,  1.02510425, -1.3028474 ],\n",
       "       [ 0.68657966,  0.10142042,  1.5203237 , -1.3028474 ],\n",
       "       [-1.13821678,  1.44498445, -0.46055408,  0.6435166 ],\n",
       "       [-1.13821678, -0.64500404,  1.5203237 , -2.2760294 ],\n",
       "       [-1.13821678,  0.10142042,  1.5203237 , -1.3028474 ],\n",
       "       [-0.22581856,  1.74355423,  2.51076259, -0.3296654 ],\n",
       "       [ 0.68657966,  0.17606287, -0.46055408,  1.1301076 ],\n",
       "       [ 0.68657966,  0.02677798,  0.03466536,  0.6435166 ],\n",
       "       [ 0.68657966,  1.22105711, -0.95577353,  1.1301076 ],\n",
       "       [-1.13821678, -1.54071339, -0.46055408,  0.1569256 ],\n",
       "       [ 1.59897788,  1.14641467, -0.46055408,  0.6435166 ],\n",
       "       [ 0.68657966, -0.04786447, -0.46055408,  1.1301076 ],\n",
       "       [-1.13821678,  0.84784488,  0.03466536, -0.3296654 ],\n",
       "       [ 1.59897788, -0.79428893,  0.52988481, -1.7894384 ],\n",
       "       [ 0.68657966,  0.25070531, -0.46055408, -0.3296654 ],\n",
       "       [-1.13821678, -1.68999828, -1.45099298, -1.3028474 ],\n",
       "       [ 1.59897788,  1.07177222,  0.52988481, -0.8162564 ],\n",
       "       [-0.22581856,  1.66891179, -0.46055408,  0.6435166 ],\n",
       "       [-1.13821678, -1.16750116, -0.46055408,  0.6435166 ],\n",
       "       [-1.13821678,  0.47463265,  0.52988481,  1.6166986 ],\n",
       "       [ 0.68657966,  1.370342  ,  0.03466536, -1.7894384 ],\n",
       "       [ 0.68657966,  1.44498445,  0.52988481,  0.6435166 ],\n",
       "       [-1.13821678,  0.84784488, -0.46055408, -0.8162564 ],\n",
       "       [-0.22581856,  1.74355423, -0.95577353,  0.6435166 ],\n",
       "       [-0.22581856, -0.27179181, -0.46055408,  1.1301076 ],\n",
       "       [-1.13821678, -0.27179181,  0.52988481,  0.6435166 ],\n",
       "       [ 0.68657966, -0.71964648,  0.03466536,  0.1569256 ],\n",
       "       [ 0.68657966, -0.94357382, -0.95577353,  0.1569256 ],\n",
       "       [-0.22581856,  1.370342  ,  2.01554314, -0.3296654 ],\n",
       "       [-1.13821678,  1.22105711,  0.52988481,  0.1569256 ],\n",
       "       [-0.22581856,  1.44498445, -0.95577353, -1.7894384 ],\n",
       "       [ 1.59897788, -1.01821626,  0.52988481,  0.1569256 ],\n",
       "       [ 0.68657966,  0.84784488,  0.52988481,  1.6166986 ],\n",
       "       [ 0.68657966,  1.370342  , -0.95577353,  0.1569256 ],\n",
       "       [-0.22581856,  0.32534776,  0.52988481, -0.3296654 ],\n",
       "       [ 0.68657966, -0.04786447,  0.03466536,  0.1569256 ],\n",
       "       [ 0.68657966, -0.12250691, -0.46055408,  0.6435166 ],\n",
       "       [-1.13821678, -1.01821626, -0.46055408, -0.8162564 ],\n",
       "       [ 0.68657966,  1.59426934,  1.02510425, -1.3028474 ],\n",
       "       [ 1.59897788,  1.59426934, -1.45099298,  0.1569256 ],\n",
       "       [ 0.68657966, -0.79428893,  1.5203237 , -1.3028474 ],\n",
       "       [ 0.68657966, -0.27179181, -0.46055408, -0.3296654 ],\n",
       "       [ 1.59897788,  0.69855999,  0.03466536,  0.1569256 ],\n",
       "       [-1.13821678, -1.01821626, -0.95577353, -0.8162564 ],\n",
       "       [ 0.68657966,  1.22105711,  1.02510425,  0.1569256 ],\n",
       "       [ 0.68657966,  0.17606287,  0.52988481, -1.3028474 ],\n",
       "       [-0.22581856,  1.59426934, -0.46055408,  1.1301076 ],\n",
       "       [ 0.68657966,  0.25070531,  0.03466536,  1.6166986 ],\n",
       "       [-0.22581856,  1.14641467,  0.52988481,  0.6435166 ],\n",
       "       [-1.13821678,  0.84784488,  1.5203237 , -0.3296654 ],\n",
       "       [-1.13821678,  0.02677798,  0.03466536,  0.6435166 ],\n",
       "       [ 1.59897788,  1.51962689, -0.46055408, -0.3296654 ],\n",
       "       [-0.22581856,  1.51962689,  0.52988481,  0.6435166 ],\n",
       "       [ 0.68657966,  1.59426934,  1.02510425, -1.3028474 ],\n",
       "       [-1.13821678,  0.77320244, -1.45099298, -0.8162564 ],\n",
       "       [-1.13821678, -0.27179181, -2.44143187, -0.8162564 ],\n",
       "       [ 0.68657966, -0.12250691,  0.03466536,  0.6435166 ],\n",
       "       [ 0.68657966, -1.2421436 , -0.95577353,  0.1569256 ],\n",
       "       [ 0.68657966,  0.92248733, -0.46055408, -0.3296654 ],\n",
       "       [-1.13821678,  1.59426934,  0.03466536,  0.6435166 ],\n",
       "       [ 1.59897788, -0.27179181,  0.03466536, -1.3028474 ],\n",
       "       [-1.13821678, -0.64500404, -0.46055408,  1.6166986 ],\n",
       "       [ 0.68657966,  0.99712977,  1.02510425,  0.1569256 ],\n",
       "       [ 1.59897788,  1.07177222,  0.03466536, -2.7626204 ],\n",
       "       [-1.13821678,  0.62391754, -0.46055408,  0.6435166 ],\n",
       "       [-1.13821678,  1.22105711, -0.46055408, -0.3296654 ],\n",
       "       [ 0.68657966, -0.49571914, -1.45099298,  1.1301076 ],\n",
       "       [ 0.68657966,  0.10142042, -1.45099298,  0.6435166 ],\n",
       "       [-1.13821678, -1.39142849, -0.95577353,  2.1032896 ],\n",
       "       [ 1.59897788, -0.86893137,  0.52988481, -2.7626204 ],\n",
       "       [-1.13821678,  0.99712977,  1.5203237 , -0.3296654 ],\n",
       "       [ 0.68657966, -0.19714936, -0.46055408,  0.6435166 ],\n",
       "       [-1.13821678,  1.59426934, -0.95577353,  0.1569256 ],\n",
       "       [ 1.59897788, -0.49571914,  1.02510425, -0.3296654 ],\n",
       "       [-1.13821678,  0.84784488, -0.46055408, -1.3028474 ],\n",
       "       [-1.13821678,  1.44498445, -0.95577353,  0.1569256 ],\n",
       "       [-0.22581856,  0.92248733,  0.52988481, -0.3296654 ],\n",
       "       [-1.13821678,  0.77320244, -0.46055408,  1.6166986 ],\n",
       "       [-1.13821678, -0.71964648,  0.03466536,  0.1569256 ],\n",
       "       [-1.13821678,  1.51962689, -0.95577353,  0.1569256 ],\n",
       "       [-0.22581856,  1.66891179,  0.03466536,  2.1032896 ],\n",
       "       [-0.22581856, -0.27179181,  1.5203237 , -0.3296654 ],\n",
       "       [ 0.68657966, -1.68999828, -1.94621242,  0.1569256 ],\n",
       "       [-1.13821678, -0.79428893, -0.95577353,  0.1569256 ],\n",
       "       [-1.13821678, -1.31678605,  0.52988481,  0.6435166 ],\n",
       "       [ 0.68657966,  1.66891179,  0.52988481,  1.1301076 ],\n",
       "       [ 0.68657966,  0.62391754, -0.46055408, -0.8162564 ],\n",
       "       [ 1.59897788, -1.68999828,  0.52988481,  0.1569256 ],\n",
       "       [ 1.59897788, -0.49571914,  0.52988481, -0.3296654 ],\n",
       "       [ 0.68657966,  1.22105711, -0.46055408, -0.3296654 ],\n",
       "       [ 0.68657966,  1.07177222,  0.03466536,  0.6435166 ],\n",
       "       [-1.13821678, -0.4210767 ,  1.5203237 , -0.8162564 ],\n",
       "       [ 1.59897788,  1.07177222, -0.46055408, -0.8162564 ],\n",
       "       [-1.13821678,  1.370342  ,  1.02510425,  1.1301076 ],\n",
       "       [-1.13821678, -1.16750116,  0.03466536,  0.1569256 ],\n",
       "       [ 0.68657966, -0.57036159,  1.02510425,  0.6435166 ],\n",
       "       [-1.13821678, -1.39142849, -1.45099298,  1.6166986 ],\n",
       "       [ 1.59897788,  0.25070531,  0.52988481, -0.3296654 ],\n",
       "       [-1.13821678, -0.27179181,  0.52988481, -0.3296654 ],\n",
       "       [ 1.59897788,  1.51962689,  2.01554314,  1.6166986 ],\n",
       "       [-1.13821678,  1.66891179,  0.52988481,  0.6435166 ],\n",
       "       [-1.13821678, -1.46607094,  0.03466536, -2.2760294 ],\n",
       "       [ 0.68657966,  0.02677798,  0.52988481,  0.1569256 ],\n",
       "       [ 1.59897788, -0.57036159, -0.95577353, -1.3028474 ],\n",
       "       [-1.13821678,  1.59426934, -1.45099298, -0.3296654 ],\n",
       "       [-1.13821678,  0.84784488,  0.03466536,  0.1569256 ],\n",
       "       [ 0.68657966,  0.62391754,  0.52988481,  0.6435166 ],\n",
       "       [-1.13821678, -1.61535583,  0.03466536, -2.2760294 ],\n",
       "       [-1.13821678,  0.77320244,  0.03466536,  0.1569256 ],\n",
       "       [ 0.68657966,  1.66891179, -0.46055408,  1.6166986 ],\n",
       "       [-0.22581856,  1.51962689,  1.5203237 , -0.3296654 ],\n",
       "       [-1.13821678,  0.69855999,  1.02510425,  0.1569256 ],\n",
       "       [ 0.68657966, -0.27179181,  0.52988481,  0.6435166 ],\n",
       "       [-0.22581856,  0.25070531,  0.52988481,  1.6166986 ],\n",
       "       [-1.13821678,  1.370342  , -1.45099298,  0.1569256 ],\n",
       "       [ 0.68657966,  0.5492751 ,  0.52988481,  0.6435166 ],\n",
       "       [ 0.68657966,  0.99712977,  1.02510425, -0.8162564 ],\n",
       "       [-0.22581856, -1.01821626, -0.46055408, -0.3296654 ],\n",
       "       [ 0.68657966, -1.61535583,  0.52988481,  0.6435166 ],\n",
       "       [-1.13821678, -0.64500404,  0.52988481,  1.6166986 ],\n",
       "       [ 0.68657966,  1.74355423,  1.02510425,  2.1032896 ],\n",
       "       [ 0.68657966, -0.94357382, -0.46055408,  0.1569256 ],\n",
       "       [ 0.68657966,  0.32534776,  0.03466536,  0.1569256 ],\n",
       "       [ 1.59897788, -1.16750116,  0.03466536,  0.1569256 ],\n",
       "       [-1.13821678,  1.29569956, -0.46055408, -1.3028474 ],\n",
       "       [-1.13821678,  1.44498445, -1.45099298, -0.8162564 ],\n",
       "       [-1.13821678,  0.5492751 , -0.46055408, -0.3296654 ],\n",
       "       [ 0.68657966, -0.94357382, -0.95577353,  0.1569256 ],\n",
       "       [-1.13821678, -0.57036159, -1.94621242,  1.6166986 ],\n",
       "       [-1.13821678, -0.04786447,  1.02510425, -0.3296654 ],\n",
       "       [-1.13821678, -1.16750116, -1.94621242, -0.8162564 ],\n",
       "       [-0.22581856,  0.10142042,  2.01554314,  0.6435166 ],\n",
       "       [-1.13821678,  1.14641467,  0.03466536, -1.3028474 ],\n",
       "       [ 1.59897788,  0.84784488, -0.95577353, -0.3296654 ],\n",
       "       [-0.22581856, -0.79428893, -0.46055408,  0.6435166 ],\n",
       "       [ 0.68657966,  0.25070531, -0.95577353, -0.3296654 ],\n",
       "       [-0.22581856, -0.71964648, -1.45099298, -0.8162564 ],\n",
       "       [ 0.68657966, -1.09285871, -0.46055408, -1.3028474 ],\n",
       "       [-0.22581856, -1.68999828, -0.46055408, -0.3296654 ],\n",
       "       [ 0.68657966,  0.92248733,  0.52988481,  0.1569256 ],\n",
       "       [-1.13821678, -0.19714936,  0.03466536,  0.1569256 ],\n",
       "       [ 0.68657966,  0.69855999,  1.02510425,  0.6435166 ],\n",
       "       [-0.22581856,  1.51962689,  1.02510425, -0.8162564 ],\n",
       "       [-0.22581856, -0.27179181,  2.51076259,  0.1569256 ],\n",
       "       [-1.13821678,  0.47463265, -0.95577353,  1.1301076 ],\n",
       "       [-0.22581856, -0.04786447,  2.51076259,  0.1569256 ],\n",
       "       [ 0.68657966,  0.39999021, -0.95577353,  1.6166986 ],\n",
       "       [-1.13821678,  0.92248733, -0.46055408,  2.1032896 ],\n",
       "       [ 0.68657966, -0.86893137, -0.95577353, -0.3296654 ],\n",
       "       [ 0.68657966,  0.02677798,  0.03466536,  0.6435166 ],\n",
       "       [-0.22581856,  0.02677798,  0.52988481, -1.3028474 ],\n",
       "       [ 0.68657966,  1.14641467,  1.02510425,  1.1301076 ],\n",
       "       [ 0.68657966, -0.71964648,  0.52988481, -0.3296654 ],\n",
       "       [ 0.68657966,  0.77320244,  0.52988481,  0.1569256 ],\n",
       "       [-1.13821678, -0.04786447,  0.52988481, -2.7626204 ],\n",
       "       [ 1.59897788,  0.69855999, -0.46055408, -1.3028474 ],\n",
       "       [ 0.68657966,  0.69855999,  0.52988481,  0.1569256 ],\n",
       "       [-1.13821678, -1.16750116, -1.45099298, -0.3296654 ],\n",
       "       [ 0.68657966,  1.44498445,  0.52988481, -0.8162564 ],\n",
       "       [-1.13821678, -1.31678605,  2.01554314, -1.3028474 ],\n",
       "       [ 0.68657966,  0.10142042, -0.95577353, -0.3296654 ],\n",
       "       [-0.22581856,  1.51962689,  0.52988481,  1.1301076 ]])"
      ]
     },
     "execution_count": 25,
     "metadata": {},
     "output_type": "execute_result"
    }
   ],
   "source": [
    "X_test"
   ]
  },
  {
   "cell_type": "markdown",
   "id": "8cb8164f",
   "metadata": {},
   "source": [
    "# LINEAR REGRESSION"
   ]
  },
  {
   "cell_type": "code",
   "execution_count": 26,
   "id": "72e2da56",
   "metadata": {},
   "outputs": [],
   "source": [
    "from sklearn.linear_model import LinearRegression\n",
    "from sklearn.svm import SVR\n",
    "from sklearn.ensemble import RandomForestRegressor\n",
    "from sklearn.ensemble import GradientBoostingRegressor"
   ]
  },
  {
   "cell_type": "code",
   "execution_count": 27,
   "id": "5e29b05a",
   "metadata": {},
   "outputs": [
    {
     "data": {
      "text/plain": [
       "GradientBoostingRegressor()"
      ]
     },
     "execution_count": 27,
     "metadata": {},
     "output_type": "execute_result"
    }
   ],
   "source": [
    "lr = LinearRegression()\n",
    "lr.fit(X_train, y_train)\n",
    "\n",
    "svm = SVR()\n",
    "svm.fit(X_train, y_train)\n",
    "\n",
    "r = RandomForestRegressor()\n",
    "r.fit(X_train, y_train)\n",
    "\n",
    "gr = GradientBoostingRegressor()\n",
    "gr.fit(X_train, y_train)"
   ]
  },
  {
   "cell_type": "code",
   "execution_count": 28,
   "id": "4246a996",
   "metadata": {},
   "outputs": [],
   "source": [
    "y1 = lr.predict(X_test)\n",
    "y2 = svm.predict(X_test)\n",
    "y3 = r.predict(X_test)\n",
    "y4 = gr.predict(X_test)"
   ]
  },
  {
   "cell_type": "markdown",
   "id": "d8de626f",
   "metadata": {},
   "source": [
    "**calculating the efficiency**"
   ]
  },
  {
   "cell_type": "code",
   "execution_count": 29,
   "id": "89b225ed",
   "metadata": {},
   "outputs": [],
   "source": [
    "from sklearn import metrics"
   ]
  },
  {
   "cell_type": "code",
   "execution_count": 30,
   "id": "f9954142",
   "metadata": {},
   "outputs": [],
   "source": [
    "s1= metrics.r2_score(y_test,y1)\n",
    "s2= metrics.r2_score(y_test,y2)\n",
    "s3= metrics.r2_score(y_test,y3)\n",
    "s4= metrics.r2_score(y_test,y4)"
   ]
  },
  {
   "cell_type": "code",
   "execution_count": 31,
   "id": "a239a832",
   "metadata": {},
   "outputs": [
    {
     "name": "stdout",
     "output_type": "stream",
     "text": [
      "0.9070334870572202 0.07574969276348342 0.9945460334452404 0.9967626945109364\n"
     ]
    }
   ],
   "source": [
    "print(s1,s2,s3,s4)"
   ]
  },
  {
   "cell_type": "markdown",
   "id": "d8c977ba",
   "metadata": {},
   "source": [
    "**now arranging the efficienies in the dataframe**"
   ]
  },
  {
   "cell_type": "code",
   "execution_count": 32,
   "id": "2e850c2f",
   "metadata": {},
   "outputs": [],
   "source": [
    "final = {'Models':['LR','SVM','RFR','GBR'], 'SCORES':[s1,s2,s3,s4]}"
   ]
  },
  {
   "cell_type": "code",
   "execution_count": 33,
   "id": "2c4dff93",
   "metadata": {},
   "outputs": [],
   "source": [
    "data1 = pd.DataFrame(final)"
   ]
  },
  {
   "cell_type": "code",
   "execution_count": 34,
   "id": "07f1e3a2",
   "metadata": {},
   "outputs": [
    {
     "data": {
      "text/html": [
       "<div>\n",
       "<style scoped>\n",
       "    .dataframe tbody tr th:only-of-type {\n",
       "        vertical-align: middle;\n",
       "    }\n",
       "\n",
       "    .dataframe tbody tr th {\n",
       "        vertical-align: top;\n",
       "    }\n",
       "\n",
       "    .dataframe thead th {\n",
       "        text-align: right;\n",
       "    }\n",
       "</style>\n",
       "<table border=\"1\" class=\"dataframe\">\n",
       "  <thead>\n",
       "    <tr style=\"text-align: right;\">\n",
       "      <th></th>\n",
       "      <th>Models</th>\n",
       "      <th>SCORES</th>\n",
       "    </tr>\n",
       "  </thead>\n",
       "  <tbody>\n",
       "    <tr>\n",
       "      <th>0</th>\n",
       "      <td>LR</td>\n",
       "      <td>0.907033</td>\n",
       "    </tr>\n",
       "    <tr>\n",
       "      <th>1</th>\n",
       "      <td>SVM</td>\n",
       "      <td>0.075750</td>\n",
       "    </tr>\n",
       "    <tr>\n",
       "      <th>2</th>\n",
       "      <td>RFR</td>\n",
       "      <td>0.994546</td>\n",
       "    </tr>\n",
       "    <tr>\n",
       "      <th>3</th>\n",
       "      <td>GBR</td>\n",
       "      <td>0.996763</td>\n",
       "    </tr>\n",
       "  </tbody>\n",
       "</table>\n",
       "</div>"
      ],
      "text/plain": [
       "  Models    SCORES\n",
       "0     LR  0.907033\n",
       "1    SVM  0.075750\n",
       "2    RFR  0.994546\n",
       "3    GBR  0.996763"
      ]
     },
     "execution_count": 34,
     "metadata": {},
     "output_type": "execute_result"
    }
   ],
   "source": [
    "data1"
   ]
  },
  {
   "cell_type": "markdown",
   "id": "e93208fe",
   "metadata": {},
   "source": [
    "**visualising the efficiencies**"
   ]
  },
  {
   "cell_type": "code",
   "execution_count": 35,
   "id": "8a1e29cb",
   "metadata": {},
   "outputs": [],
   "source": [
    "import seaborn as sns"
   ]
  },
  {
   "cell_type": "code",
   "execution_count": 36,
   "id": "cd5d4424",
   "metadata": {},
   "outputs": [
    {
     "name": "stderr",
     "output_type": "stream",
     "text": [
      "c:\\users\\hp\\appdata\\local\\programs\\python\\python39\\lib\\site-packages\\seaborn\\_decorators.py:36: FutureWarning: Pass the following variables as keyword args: x, y. From version 0.12, the only valid positional argument will be `data`, and passing other arguments without an explicit keyword will result in an error or misinterpretation.\n",
      "  warnings.warn(\n"
     ]
    },
    {
     "data": {
      "text/plain": [
       "<AxesSubplot:xlabel='Models', ylabel='SCORES'>"
      ]
     },
     "execution_count": 36,
     "metadata": {},
     "output_type": "execute_result"
    },
    {
     "data": {
      "image/png": "[encoded data removed]",
      "text/plain": [
       "<Figure size 432x288 with 1 Axes>"
      ]
     },
     "metadata": {
      "needs_background": "light"
     },
     "output_type": "display_data"
    }
   ],
   "source": [
    "sns.barplot(data1['Models'],data1['SCORES'])"
   ]
  },
  {
   "cell_type": "markdown",
   "id": "0b3a2613",
   "metadata": {},
   "source": [
    "**training the full data in the GBR**"
   ]
  },
  {
   "cell_type": "code",
   "execution_count": 37,
   "id": "4ca9ca13",
   "metadata": {},
   "outputs": [
    {
     "data": {
      "text/plain": [
       "0      2297\n",
       "1      1134\n",
       "2      4969\n",
       "3       902\n",
       "4      3574\n",
       "       ... \n",
       "995    2996\n",
       "996     667\n",
       "997    4158\n",
       "998    2414\n",
       "999     788\n",
       "Name: salary, Length: 1000, dtype: int64"
      ]
     },
     "execution_count": 37,
     "metadata": {},
     "output_type": "execute_result"
    }
   ],
   "source": [
    "y"
   ]
  },
  {
   "cell_type": "code",
   "execution_count": 38,
   "id": "218c4ff6",
   "metadata": {},
   "outputs": [],
   "source": [
    "y = np.array(y)"
   ]
  },
  {
   "cell_type": "code",
   "execution_count": 39,
   "id": "ff720172",
   "metadata": {},
   "outputs": [],
   "source": [
    "X = sc.fit_transform(X)"
   ]
  },
  {
   "cell_type": "markdown",
   "id": "1aa92af1",
   "metadata": {},
   "source": [
    "**calculating the efficiency**"
   ]
  },
  {
   "cell_type": "code",
   "execution_count": 40,
   "id": "6b7f63e9",
   "metadata": {},
   "outputs": [
    {
     "data": {
      "text/plain": [
       "GradientBoostingRegressor()"
      ]
     },
     "execution_count": 40,
     "metadata": {},
     "output_type": "execute_result"
    }
   ],
   "source": [
    "gr = GradientBoostingRegressor()\n",
    "gr.fit(X, y)"
   ]
  },
  {
   "cell_type": "code",
   "execution_count": 41,
   "id": "d15c0fb2",
   "metadata": {},
   "outputs": [],
   "source": [
    "import joblib"
   ]
  },
  {
   "cell_type": "code",
   "execution_count": 42,
   "id": "71cbe509",
   "metadata": {},
   "outputs": [
    {
     "data": {
      "text/plain": [
       "['Employement_predict']"
      ]
     },
     "execution_count": 42,
     "metadata": {},
     "output_type": "execute_result"
    }
   ],
   "source": [
    "joblib.dump(gr,'Employement_predict')"
   ]
  },
  {
   "cell_type": "code",
   "execution_count": 43,
   "id": "c54a481d",
   "metadata": {},
   "outputs": [],
   "source": [
    "model  = joblib.load('Employement_predict')"
   ]
  },
  {
   "cell_type": "markdown",
   "id": "ed9e63e5",
   "metadata": {},
   "source": [
    "# GUI"
   ]
  },
  {
   "cell_type": "code",
   "execution_count": 44,
   "id": "72daa1c4",
   "metadata": {},
   "outputs": [],
   "source": [
    "from tkinter import*\n",
    "import joblib\n",
    "from sklearn.preprocessing import StandardScaler"
   ]
  },
  {
   "cell_type": "code",
   "execution_count": null,
   "id": "249fa6ec",
   "metadata": {},
   "outputs": [],
   "source": [
    "def prediction():\n",
    "    v1 = float(t1.get())\n",
    "    v2 = float(t2.get())\n",
    "    v3 = float(t3.get())\n",
    "    v4 = float(t4.get())\n",
    "    model = joblib.load('Employement_predict')\n",
    "    result = model.predict(sc.transform([[v1,v2,v3,v4]]))\n",
    "    label = Label(root,text=str(result)).grid(row=31)\n",
    "root = Tk()\n",
    "root.title(\"SALARY PREDICTION\")\n",
    "label = Label(root,text=\"SALARY PREDICTION\",fg=\"red\").grid(row=0,columnspan=2)\n",
    "t1 = Entry(root,width=350)\n",
    "t1.grid(row=0,column=1)\n",
    "t2 = Entry(root,width=350)\n",
    "t2.grid(row=1,column=1)\n",
    "t3 = Entry(root,width=350)\n",
    "t3.grid(row=2,column=1)\n",
    "t4 = Entry(root,width=350)\n",
    "t4.grid(row=3,column=1)\n",
    "\n",
    "Label(root, text=\"Enter Your Blood group Press 1 for A, 2 for AB, 3 for O and 4 for B \").grid(row=0,column=0)\n",
    "Label(root, text = \"Enter your Age\").grid(row=1,column=0)\n",
    "Label(root, text = \"Enter your eating rating\").grid(row=2,column=0)\n",
    "Label(root, text = \"Enter lifestyle rating\").grid(row=3,column=0)\n",
    "\n",
    "Button(root,text=\"Predict\",command=prediction).grid(row=8,column=0)\n",
    "mainloop()"
   ]
  },
  {
   "cell_type": "code",
   "execution_count": null,
   "id": "1463c3fd",
   "metadata": {},
   "outputs": [],
   "source": []
  }
 ],
 "metadata": {
  "kernelspec": {
   "display_name": "Python 3 (ipykernel)",
   "language": "python",
   "name": "python3"
  },
  "language_info": {
   "codemirror_mode": {
    "name": "ipython",
    "version": 3
   },
   "file_extension": ".py",
   "mimetype": "text/x-python",
   "name": "python",
   "nbconvert_exporter": "python",
   "pygments_lexer": "ipython3",
   "version": "3.9.0"
  }
 },
 "nbformat": 4,
 "nbformat_minor": 5
}
